{
 "cells": [
  {
   "cell_type": "markdown",
   "id": "33007e77-46f1-45f8-a645-949f8cbca209",
   "metadata": {},
   "source": [
    "### Import libraries"
   ]
  },
  {
   "cell_type": "code",
   "execution_count": 2,
   "id": "acb404c5-9887-4437-be7d-bb5198d27ba7",
   "metadata": {
    "tags": []
   },
   "outputs": [],
   "source": [
    "import pandas as pd \n",
    "import numpy as np\n",
    "import os \n",
    "import requests\n",
    "import json\n",
    "from datetime import datetime"
   ]
  },
  {
   "cell_type": "code",
   "execution_count": 3,
   "id": "052f9e2a-1814-4544-8552-8396a7ad2463",
   "metadata": {
    "tags": []
   },
   "outputs": [],
   "source": [
    "# Create a list with all files in the folder using a list compehension\n",
    "\n",
    "folderpath = r\"/Users/prateeksharma/Downloads/2022-citibike-tripdata\" \n",
    "filepaths = [os.path.join(folderpath, name) for name in os.listdir(folderpath) if name.endswith('.csv')]"
   ]
  },
  {
   "cell_type": "code",
   "execution_count": 6,
   "id": "9f70200c-f05c-43e7-88f1-35c6ae992e66",
   "metadata": {
    "tags": []
   },
   "outputs": [],
   "source": [
    "# Initialize an empty list to hold dataframes\n",
    "dataframes = []\n",
    "\n",
    "# Define dtype for columns with mixed types\n",
    "dtype_dict = {\n",
    "    'ride_id': str,\n",
    "    'rideable_type': str,\n",
    "    'started_at': str,\n",
    "    'ended_at': str,\n",
    "    'start_station_name': str,\n",
    "    'start_station_id': str, \n",
    "    'end_station_name': str,\n",
    "    'end_station_id': str, \n",
    "}\n",
    "\n",
    "# Loop through the list of file paths and read each CSV file\n",
    "for file in filepaths:\n",
    "    try:\n",
    "        # Attempt to read the file with UTF-8 encoding\n",
    "        df = pd.read_csv(file, encoding='utf-8', dtype=dtype_dict, low_memory=False)\n",
    "    except UnicodeDecodeError:\n",
    "        # If UTF-8 encoding fails, try ISO-8859-1 encoding\n",
    "        df = pd.read_csv(file, encoding='ISO-8859-1', dtype=dtype_dict, low_memory=False)\n",
    "    except Exception as e:\n",
    "        # Handle any other exceptions that might occur\n",
    "        print(f\"Error reading {file}: {e}\")\n",
    "        continue\n",
    "\n",
    "    # Convert 'start_station_id' and 'end_station_id' to numeric, coercing errors to NaN\n",
    "    df['start_station_id'] = pd.to_numeric(df['start_station_id'], errors='coerce')\n",
    "    df['end_station_id'] = pd.to_numeric(df['end_station_id'], errors='coerce')\n",
    "\n",
    "    # Append the dataframe to the list\n",
    "    dataframes.append(df)"
   ]
  },
  {
   "cell_type": "markdown",
   "id": "c65d8f89-2bd9-42c9-851a-ccb48c32a479",
   "metadata": {},
   "source": [
    "This code initializes an empty list dataframes to store pandas DataFrames. It defines dtype_dict to specify that certain columns should be read as strings, which helps handle mixed data types. The code then iterates over a list of file paths (filepaths) and attempts to read each CSV file. It first tries to read each file with UTF-8 encoding. If a UnicodeDecodeError occurs, it retries with ISO-8859-1 encoding. If any other exception occurs during file reading, it catches the error, prints an error message, and skips to the next file. Successfully read DataFrames are appended to the dataframes list."
   ]
  },
  {
   "cell_type": "code",
   "execution_count": 9,
   "id": "7e349b88-1ee2-4fc1-b4f2-088e19804d5b",
   "metadata": {
    "tags": []
   },
   "outputs": [],
   "source": [
    "df = pd.concat(dataframes, ignore_index=True)"
   ]
  },
  {
   "cell_type": "code",
   "execution_count": 11,
   "id": "c6ba3840-c756-4f3a-a182-e251cf9d0452",
   "metadata": {
    "tags": []
   },
   "outputs": [
    {
     "data": {
      "text/plain": [
       "(30689921, 13)"
      ]
     },
     "execution_count": 11,
     "metadata": {},
     "output_type": "execute_result"
    }
   ],
   "source": [
    "df.shape"
   ]
  },
  {
   "cell_type": "code",
   "execution_count": 13,
   "id": "659210be-45c6-424a-b502-ec7aa853ed04",
   "metadata": {
    "tags": []
   },
   "outputs": [
    {
     "data": {
      "text/html": [
       "<div>\n",
       "<style scoped>\n",
       "    .dataframe tbody tr th:only-of-type {\n",
       "        vertical-align: middle;\n",
       "    }\n",
       "\n",
       "    .dataframe tbody tr th {\n",
       "        vertical-align: top;\n",
       "    }\n",
       "\n",
       "    .dataframe thead th {\n",
       "        text-align: right;\n",
       "    }\n",
       "</style>\n",
       "<table border=\"1\" class=\"dataframe\">\n",
       "  <thead>\n",
       "    <tr style=\"text-align: right;\">\n",
       "      <th></th>\n",
       "      <th>ride_id</th>\n",
       "      <th>rideable_type</th>\n",
       "      <th>started_at</th>\n",
       "      <th>ended_at</th>\n",
       "      <th>start_station_name</th>\n",
       "      <th>start_station_id</th>\n",
       "      <th>end_station_name</th>\n",
       "      <th>end_station_id</th>\n",
       "      <th>start_lat</th>\n",
       "      <th>start_lng</th>\n",
       "      <th>end_lat</th>\n",
       "      <th>end_lng</th>\n",
       "      <th>member_casual</th>\n",
       "    </tr>\n",
       "  </thead>\n",
       "  <tbody>\n",
       "    <tr>\n",
       "      <th>0</th>\n",
       "      <td>DF208007EE5F9D79</td>\n",
       "      <td>classic_bike</td>\n",
       "      <td>2022-08-26 15:21:44</td>\n",
       "      <td>2022-08-26 15:34:20</td>\n",
       "      <td>Berkeley Pl &amp; 6 Ave</td>\n",
       "      <td>4134.06</td>\n",
       "      <td>Windsor Pl &amp; 8 Ave</td>\n",
       "      <td>3620.02</td>\n",
       "      <td>40.676530</td>\n",
       "      <td>-73.978469</td>\n",
       "      <td>40.660906</td>\n",
       "      <td>-73.983074</td>\n",
       "      <td>member</td>\n",
       "    </tr>\n",
       "    <tr>\n",
       "      <th>1</th>\n",
       "      <td>48A796B4996BACB0</td>\n",
       "      <td>electric_bike</td>\n",
       "      <td>2022-08-03 12:56:29</td>\n",
       "      <td>2022-08-03 13:06:10</td>\n",
       "      <td>21 St &amp; 4 Ave</td>\n",
       "      <td>3668.04</td>\n",
       "      <td>Degraw St &amp; Smith St</td>\n",
       "      <td>4298.05</td>\n",
       "      <td>40.662584</td>\n",
       "      <td>-73.995554</td>\n",
       "      <td>40.682915</td>\n",
       "      <td>-73.993182</td>\n",
       "      <td>member</td>\n",
       "    </tr>\n",
       "    <tr>\n",
       "      <th>2</th>\n",
       "      <td>AE459F435C0B1D5B</td>\n",
       "      <td>classic_bike</td>\n",
       "      <td>2022-08-11 17:49:47</td>\n",
       "      <td>2022-08-11 18:05:08</td>\n",
       "      <td>48 St &amp; Barnett Ave</td>\n",
       "      <td>6358.05</td>\n",
       "      <td>Queens Plaza North &amp; Crescent St</td>\n",
       "      <td>6429.01</td>\n",
       "      <td>40.750016</td>\n",
       "      <td>-73.915409</td>\n",
       "      <td>40.751102</td>\n",
       "      <td>-73.940737</td>\n",
       "      <td>member</td>\n",
       "    </tr>\n",
       "    <tr>\n",
       "      <th>3</th>\n",
       "      <td>CA8B4A94620E74C0</td>\n",
       "      <td>electric_bike</td>\n",
       "      <td>2022-08-10 17:25:41</td>\n",
       "      <td>2022-08-10 17:35:23</td>\n",
       "      <td>7 Ave &amp; Central Park South</td>\n",
       "      <td>6912.01</td>\n",
       "      <td>8 Ave &amp; W 33 St</td>\n",
       "      <td>6450.12</td>\n",
       "      <td>40.766741</td>\n",
       "      <td>-73.979069</td>\n",
       "      <td>40.751551</td>\n",
       "      <td>-73.993934</td>\n",
       "      <td>member</td>\n",
       "    </tr>\n",
       "    <tr>\n",
       "      <th>4</th>\n",
       "      <td>EB85C6F0148BC348</td>\n",
       "      <td>classic_bike</td>\n",
       "      <td>2022-08-31 13:47:12</td>\n",
       "      <td>2022-08-31 14:24:00</td>\n",
       "      <td>Jerome Ave &amp; W 195 St</td>\n",
       "      <td>8653.09</td>\n",
       "      <td>Sherman Ave &amp; E 166 St</td>\n",
       "      <td>8072.06</td>\n",
       "      <td>40.868858</td>\n",
       "      <td>-73.896500</td>\n",
       "      <td>40.831305</td>\n",
       "      <td>-73.917448</td>\n",
       "      <td>member</td>\n",
       "    </tr>\n",
       "  </tbody>\n",
       "</table>\n",
       "</div>"
      ],
      "text/plain": [
       "            ride_id  rideable_type           started_at             ended_at  \\\n",
       "0  DF208007EE5F9D79   classic_bike  2022-08-26 15:21:44  2022-08-26 15:34:20   \n",
       "1  48A796B4996BACB0  electric_bike  2022-08-03 12:56:29  2022-08-03 13:06:10   \n",
       "2  AE459F435C0B1D5B   classic_bike  2022-08-11 17:49:47  2022-08-11 18:05:08   \n",
       "3  CA8B4A94620E74C0  electric_bike  2022-08-10 17:25:41  2022-08-10 17:35:23   \n",
       "4  EB85C6F0148BC348   classic_bike  2022-08-31 13:47:12  2022-08-31 14:24:00   \n",
       "\n",
       "           start_station_name  start_station_id  \\\n",
       "0         Berkeley Pl & 6 Ave           4134.06   \n",
       "1               21 St & 4 Ave           3668.04   \n",
       "2         48 St & Barnett Ave           6358.05   \n",
       "3  7 Ave & Central Park South           6912.01   \n",
       "4       Jerome Ave & W 195 St           8653.09   \n",
       "\n",
       "                   end_station_name  end_station_id  start_lat  start_lng  \\\n",
       "0                Windsor Pl & 8 Ave         3620.02  40.676530 -73.978469   \n",
       "1              Degraw St & Smith St         4298.05  40.662584 -73.995554   \n",
       "2  Queens Plaza North & Crescent St         6429.01  40.750016 -73.915409   \n",
       "3                   8 Ave & W 33 St         6450.12  40.766741 -73.979069   \n",
       "4            Sherman Ave & E 166 St         8072.06  40.868858 -73.896500   \n",
       "\n",
       "     end_lat    end_lng member_casual  \n",
       "0  40.660906 -73.983074        member  \n",
       "1  40.682915 -73.993182        member  \n",
       "2  40.751102 -73.940737        member  \n",
       "3  40.751551 -73.993934        member  \n",
       "4  40.831305 -73.917448        member  "
      ]
     },
     "execution_count": 13,
     "metadata": {},
     "output_type": "execute_result"
    }
   ],
   "source": [
    "df.head()"
   ]
  },
  {
   "cell_type": "code",
   "execution_count": 15,
   "id": "2b3aa07f-6aae-46d6-b259-78dea2c7afe3",
   "metadata": {
    "tags": []
   },
   "outputs": [
    {
     "data": {
      "text/html": [
       "<div>\n",
       "<style scoped>\n",
       "    .dataframe tbody tr th:only-of-type {\n",
       "        vertical-align: middle;\n",
       "    }\n",
       "\n",
       "    .dataframe tbody tr th {\n",
       "        vertical-align: top;\n",
       "    }\n",
       "\n",
       "    .dataframe thead th {\n",
       "        text-align: right;\n",
       "    }\n",
       "</style>\n",
       "<table border=\"1\" class=\"dataframe\">\n",
       "  <thead>\n",
       "    <tr style=\"text-align: right;\">\n",
       "      <th></th>\n",
       "      <th>ride_id</th>\n",
       "      <th>rideable_type</th>\n",
       "      <th>started_at</th>\n",
       "      <th>ended_at</th>\n",
       "      <th>start_station_name</th>\n",
       "      <th>start_station_id</th>\n",
       "      <th>end_station_name</th>\n",
       "      <th>end_station_id</th>\n",
       "      <th>start_lat</th>\n",
       "      <th>start_lng</th>\n",
       "      <th>end_lat</th>\n",
       "      <th>end_lng</th>\n",
       "      <th>member_casual</th>\n",
       "    </tr>\n",
       "  </thead>\n",
       "  <tbody>\n",
       "    <tr>\n",
       "      <th>30689916</th>\n",
       "      <td>CB2EE50F60A58C7B</td>\n",
       "      <td>classic_bike</td>\n",
       "      <td>2022-12-12 08:38:46</td>\n",
       "      <td>2022-12-12 08:46:12</td>\n",
       "      <td>E 41 St &amp; Madison Ave (SW corner)</td>\n",
       "      <td>6474.12</td>\n",
       "      <td>6 Ave &amp; W 33 St</td>\n",
       "      <td>6364.07</td>\n",
       "      <td>40.752165</td>\n",
       "      <td>-73.979922</td>\n",
       "      <td>40.749013</td>\n",
       "      <td>-73.988484</td>\n",
       "      <td>member</td>\n",
       "    </tr>\n",
       "    <tr>\n",
       "      <th>30689917</th>\n",
       "      <td>3C0DF3280FEB1350</td>\n",
       "      <td>classic_bike</td>\n",
       "      <td>2022-12-12 13:06:32</td>\n",
       "      <td>2022-12-12 13:19:58</td>\n",
       "      <td>Peck Slip &amp; South St</td>\n",
       "      <td>5096.12</td>\n",
       "      <td>Vesey St &amp; Church St</td>\n",
       "      <td>5216.06</td>\n",
       "      <td>40.707689</td>\n",
       "      <td>-74.001254</td>\n",
       "      <td>40.712220</td>\n",
       "      <td>-74.010472</td>\n",
       "      <td>member</td>\n",
       "    </tr>\n",
       "    <tr>\n",
       "      <th>30689918</th>\n",
       "      <td>B916E63B630D5020</td>\n",
       "      <td>classic_bike</td>\n",
       "      <td>2022-12-18 01:15:22</td>\n",
       "      <td>2022-12-18 01:48:15</td>\n",
       "      <td>E 41 St &amp; Madison Ave (SW corner)</td>\n",
       "      <td>6474.12</td>\n",
       "      <td>Lenox Ave &amp; W 111 St</td>\n",
       "      <td>7602.05</td>\n",
       "      <td>40.752399</td>\n",
       "      <td>-73.980150</td>\n",
       "      <td>40.798786</td>\n",
       "      <td>-73.952300</td>\n",
       "      <td>member</td>\n",
       "    </tr>\n",
       "    <tr>\n",
       "      <th>30689919</th>\n",
       "      <td>21EAC007BE7D4161</td>\n",
       "      <td>classic_bike</td>\n",
       "      <td>2022-12-08 23:09:54</td>\n",
       "      <td>2022-12-08 23:26:37</td>\n",
       "      <td>W 37 St &amp; 10 Ave</td>\n",
       "      <td>6611.02</td>\n",
       "      <td>W 70 St &amp; Amsterdam Ave</td>\n",
       "      <td>7207.08</td>\n",
       "      <td>40.756604</td>\n",
       "      <td>-73.997901</td>\n",
       "      <td>40.777480</td>\n",
       "      <td>-73.982886</td>\n",
       "      <td>member</td>\n",
       "    </tr>\n",
       "    <tr>\n",
       "      <th>30689920</th>\n",
       "      <td>538408C4A16F4415</td>\n",
       "      <td>electric_bike</td>\n",
       "      <td>2022-12-21 07:26:14</td>\n",
       "      <td>2022-12-21 07:31:40</td>\n",
       "      <td>W 37 St &amp; 10 Ave</td>\n",
       "      <td>6611.02</td>\n",
       "      <td>6 Ave &amp; W 33 St</td>\n",
       "      <td>6364.07</td>\n",
       "      <td>40.756604</td>\n",
       "      <td>-73.997901</td>\n",
       "      <td>40.749013</td>\n",
       "      <td>-73.988484</td>\n",
       "      <td>member</td>\n",
       "    </tr>\n",
       "  </tbody>\n",
       "</table>\n",
       "</div>"
      ],
      "text/plain": [
       "                   ride_id  rideable_type           started_at  \\\n",
       "30689916  CB2EE50F60A58C7B   classic_bike  2022-12-12 08:38:46   \n",
       "30689917  3C0DF3280FEB1350   classic_bike  2022-12-12 13:06:32   \n",
       "30689918  B916E63B630D5020   classic_bike  2022-12-18 01:15:22   \n",
       "30689919  21EAC007BE7D4161   classic_bike  2022-12-08 23:09:54   \n",
       "30689920  538408C4A16F4415  electric_bike  2022-12-21 07:26:14   \n",
       "\n",
       "                     ended_at                 start_station_name  \\\n",
       "30689916  2022-12-12 08:46:12  E 41 St & Madison Ave (SW corner)   \n",
       "30689917  2022-12-12 13:19:58               Peck Slip & South St   \n",
       "30689918  2022-12-18 01:48:15  E 41 St & Madison Ave (SW corner)   \n",
       "30689919  2022-12-08 23:26:37                   W 37 St & 10 Ave   \n",
       "30689920  2022-12-21 07:31:40                   W 37 St & 10 Ave   \n",
       "\n",
       "          start_station_id         end_station_name  end_station_id  \\\n",
       "30689916           6474.12          6 Ave & W 33 St         6364.07   \n",
       "30689917           5096.12     Vesey St & Church St         5216.06   \n",
       "30689918           6474.12     Lenox Ave & W 111 St         7602.05   \n",
       "30689919           6611.02  W 70 St & Amsterdam Ave         7207.08   \n",
       "30689920           6611.02          6 Ave & W 33 St         6364.07   \n",
       "\n",
       "          start_lat  start_lng    end_lat    end_lng member_casual  \n",
       "30689916  40.752165 -73.979922  40.749013 -73.988484        member  \n",
       "30689917  40.707689 -74.001254  40.712220 -74.010472        member  \n",
       "30689918  40.752399 -73.980150  40.798786 -73.952300        member  \n",
       "30689919  40.756604 -73.997901  40.777480 -73.982886        member  \n",
       "30689920  40.756604 -73.997901  40.749013 -73.988484        member  "
      ]
     },
     "execution_count": 15,
     "metadata": {},
     "output_type": "execute_result"
    }
   ],
   "source": [
    "df.tail()"
   ]
  },
  {
   "cell_type": "markdown",
   "id": "e35cea7f-5a31-4a5c-85d7-31949fc8759a",
   "metadata": {},
   "source": [
    "### Get weather data using NOAA's API"
   ]
  },
  {
   "cell_type": "code",
   "execution_count": 18,
   "id": "4691d71f-34b8-44a8-a43d-82e5d07ec123",
   "metadata": {
    "tags": []
   },
   "outputs": [],
   "source": [
    "# Define your NOAA token - type yours in here! \n",
    "\n",
    "Token = 'BiEOLsQXtdVgcqzWoCpANtIcqqEMcOlZ' "
   ]
  },
  {
   "cell_type": "code",
   "execution_count": 20,
   "id": "af783493-34dc-4e00-872f-3756071796a4",
   "metadata": {
    "tags": []
   },
   "outputs": [],
   "source": [
    "# Get the API \n",
    "\n",
    "r = requests.get('https://www.ncdc.noaa.gov/cdo-web/api/v2/data?datasetid=GHCND&datatypeid=TAVG&limit=1000&stationid=GHCND:USW00014732&startdate=2022-01-01&enddate=2022-12-31', headers={'token':Token})"
   ]
  },
  {
   "cell_type": "code",
   "execution_count": 22,
   "id": "3f3ccef2-617f-4999-9777-77506289fdf5",
   "metadata": {
    "tags": []
   },
   "outputs": [],
   "source": [
    "# Load the api response as a json\n",
    "\n",
    "d = json.loads(r.text)"
   ]
  },
  {
   "cell_type": "code",
   "execution_count": 24,
   "id": "f96dc32f-add6-43cf-bf0b-2e925e0ab79d",
   "metadata": {
    "tags": []
   },
   "outputs": [],
   "source": [
    "# Secure all items in the response that correspond to TAVG\n",
    "\n",
    "avg_temps = [item for item in d['results'] if item['datatype']=='TAVG']"
   ]
  },
  {
   "cell_type": "code",
   "execution_count": 26,
   "id": "772f8268-e0a6-4806-b0ba-88c521275dee",
   "metadata": {
    "tags": []
   },
   "outputs": [],
   "source": [
    "# Get only the date field from all average temperature readings\n",
    "\n",
    "dates_temp = [item['date'] for item in avg_temps]"
   ]
  },
  {
   "cell_type": "code",
   "execution_count": 28,
   "id": "0f95fe23-fbdf-48bb-ab7f-9918f04b2abe",
   "metadata": {
    "tags": []
   },
   "outputs": [],
   "source": [
    "# Get the temperature from all average temperature readings\n",
    "\n",
    "temps = [item['value'] for item in avg_temps]"
   ]
  },
  {
   "cell_type": "code",
   "execution_count": 30,
   "id": "a1cb704d-38b3-4389-be77-c0b8440c4f25",
   "metadata": {
    "tags": []
   },
   "outputs": [
    {
     "name": "stdout",
     "output_type": "stream",
     "text": [
      "[116, 114, 14, -27, 32, 49, 7, -25, 14, 16]\n"
     ]
    }
   ],
   "source": [
    "first_10_temps = temps[:10]\n",
    "print(first_10_temps)"
   ]
  },
  {
   "cell_type": "code",
   "execution_count": 32,
   "id": "0207db51-9316-4303-84cf-2a9519d60c7c",
   "metadata": {
    "tags": []
   },
   "outputs": [],
   "source": [
    "# Put the results in a dataframe\n",
    "\n",
    "df_temp = pd.DataFrame()"
   ]
  },
  {
   "cell_type": "code",
   "execution_count": 34,
   "id": "f6f605fa-4387-48d1-a299-28f082b2d83a",
   "metadata": {
    "tags": []
   },
   "outputs": [],
   "source": [
    "# Get only date and cast it to date time; convert temperature from tenths of Celsius to normal Celsius\n",
    "df_temp['date'] = [datetime.strptime(d, \"%Y-%m-%dT%H:%M:%S\") for d in dates_temp]\n",
    "df_temp['avgTemp'] = [float(v) / 10.0 for v in temps]"
   ]
  },
  {
   "cell_type": "code",
   "execution_count": 36,
   "id": "c80ab633-8e26-4cc5-864d-2de430d5b36e",
   "metadata": {
    "tags": []
   },
   "outputs": [
    {
     "data": {
      "text/html": [
       "<div>\n",
       "<style scoped>\n",
       "    .dataframe tbody tr th:only-of-type {\n",
       "        vertical-align: middle;\n",
       "    }\n",
       "\n",
       "    .dataframe tbody tr th {\n",
       "        vertical-align: top;\n",
       "    }\n",
       "\n",
       "    .dataframe thead th {\n",
       "        text-align: right;\n",
       "    }\n",
       "</style>\n",
       "<table border=\"1\" class=\"dataframe\">\n",
       "  <thead>\n",
       "    <tr style=\"text-align: right;\">\n",
       "      <th></th>\n",
       "      <th>date</th>\n",
       "      <th>avgTemp</th>\n",
       "    </tr>\n",
       "  </thead>\n",
       "  <tbody>\n",
       "    <tr>\n",
       "      <th>360</th>\n",
       "      <td>2022-12-27</td>\n",
       "      <td>-0.7</td>\n",
       "    </tr>\n",
       "    <tr>\n",
       "      <th>361</th>\n",
       "      <td>2022-12-28</td>\n",
       "      <td>3.4</td>\n",
       "    </tr>\n",
       "    <tr>\n",
       "      <th>362</th>\n",
       "      <td>2022-12-29</td>\n",
       "      <td>6.4</td>\n",
       "    </tr>\n",
       "    <tr>\n",
       "      <th>363</th>\n",
       "      <td>2022-12-30</td>\n",
       "      <td>9.3</td>\n",
       "    </tr>\n",
       "    <tr>\n",
       "      <th>364</th>\n",
       "      <td>2022-12-31</td>\n",
       "      <td>8.2</td>\n",
       "    </tr>\n",
       "  </tbody>\n",
       "</table>\n",
       "</div>"
      ],
      "text/plain": [
       "          date  avgTemp\n",
       "360 2022-12-27     -0.7\n",
       "361 2022-12-28      3.4\n",
       "362 2022-12-29      6.4\n",
       "363 2022-12-30      9.3\n",
       "364 2022-12-31      8.2"
      ]
     },
     "execution_count": 36,
     "metadata": {},
     "output_type": "execute_result"
    }
   ],
   "source": [
    "df_temp.tail()"
   ]
  },
  {
   "cell_type": "code",
   "execution_count": 38,
   "id": "581177bd-609e-4fcd-a65a-be987456915b",
   "metadata": {
    "tags": []
   },
   "outputs": [
    {
     "data": {
      "text/html": [
       "<div>\n",
       "<style scoped>\n",
       "    .dataframe tbody tr th:only-of-type {\n",
       "        vertical-align: middle;\n",
       "    }\n",
       "\n",
       "    .dataframe tbody tr th {\n",
       "        vertical-align: top;\n",
       "    }\n",
       "\n",
       "    .dataframe thead th {\n",
       "        text-align: right;\n",
       "    }\n",
       "</style>\n",
       "<table border=\"1\" class=\"dataframe\">\n",
       "  <thead>\n",
       "    <tr style=\"text-align: right;\">\n",
       "      <th></th>\n",
       "      <th>date</th>\n",
       "      <th>avgTemp</th>\n",
       "    </tr>\n",
       "  </thead>\n",
       "  <tbody>\n",
       "    <tr>\n",
       "      <th>0</th>\n",
       "      <td>2022-01-01</td>\n",
       "      <td>11.6</td>\n",
       "    </tr>\n",
       "    <tr>\n",
       "      <th>1</th>\n",
       "      <td>2022-01-02</td>\n",
       "      <td>11.4</td>\n",
       "    </tr>\n",
       "    <tr>\n",
       "      <th>2</th>\n",
       "      <td>2022-01-03</td>\n",
       "      <td>1.4</td>\n",
       "    </tr>\n",
       "    <tr>\n",
       "      <th>3</th>\n",
       "      <td>2022-01-04</td>\n",
       "      <td>-2.7</td>\n",
       "    </tr>\n",
       "    <tr>\n",
       "      <th>4</th>\n",
       "      <td>2022-01-05</td>\n",
       "      <td>3.2</td>\n",
       "    </tr>\n",
       "  </tbody>\n",
       "</table>\n",
       "</div>"
      ],
      "text/plain": [
       "        date  avgTemp\n",
       "0 2022-01-01     11.6\n",
       "1 2022-01-02     11.4\n",
       "2 2022-01-03      1.4\n",
       "3 2022-01-04     -2.7\n",
       "4 2022-01-05      3.2"
      ]
     },
     "execution_count": 38,
     "metadata": {},
     "output_type": "execute_result"
    }
   ],
   "source": [
    "df_temp.head()"
   ]
  },
  {
   "cell_type": "code",
   "execution_count": 40,
   "id": "64d2d451-116e-4563-b1b0-2a0f0cef02f0",
   "metadata": {
    "tags": []
   },
   "outputs": [],
   "source": [
    "df['started_at'] = pd.to_datetime(df['started_at'], format=\"%Y-%m-%d %H:%M:%S\", errors='coerce')"
   ]
  },
  {
   "cell_type": "code",
   "execution_count": 41,
   "id": "5a3fab31-3151-4f52-a6f2-2191fded76b3",
   "metadata": {
    "tags": []
   },
   "outputs": [],
   "source": [
    "df['date'] = pd.to_datetime(df['started_at'], format='%Y-%m-%d').dt.date"
   ]
  },
  {
   "cell_type": "code",
   "execution_count": 42,
   "id": "fd18377e-a0d3-4576-b3f8-840ecba3cb9f",
   "metadata": {
    "tags": []
   },
   "outputs": [],
   "source": [
    "df['date'] = pd.to_datetime(df['date'])"
   ]
  },
  {
   "cell_type": "code",
   "execution_count": 43,
   "id": "24b38963-3734-44f8-9a72-c123ed50ecac",
   "metadata": {
    "tags": []
   },
   "outputs": [
    {
     "data": {
      "text/html": [
       "<div>\n",
       "<style scoped>\n",
       "    .dataframe tbody tr th:only-of-type {\n",
       "        vertical-align: middle;\n",
       "    }\n",
       "\n",
       "    .dataframe tbody tr th {\n",
       "        vertical-align: top;\n",
       "    }\n",
       "\n",
       "    .dataframe thead th {\n",
       "        text-align: right;\n",
       "    }\n",
       "</style>\n",
       "<table border=\"1\" class=\"dataframe\">\n",
       "  <thead>\n",
       "    <tr style=\"text-align: right;\">\n",
       "      <th></th>\n",
       "      <th>date</th>\n",
       "      <th>avgTemp</th>\n",
       "    </tr>\n",
       "  </thead>\n",
       "  <tbody>\n",
       "    <tr>\n",
       "      <th>0</th>\n",
       "      <td>2022-01-01</td>\n",
       "      <td>11.6</td>\n",
       "    </tr>\n",
       "    <tr>\n",
       "      <th>1</th>\n",
       "      <td>2022-01-02</td>\n",
       "      <td>11.4</td>\n",
       "    </tr>\n",
       "    <tr>\n",
       "      <th>2</th>\n",
       "      <td>2022-01-03</td>\n",
       "      <td>1.4</td>\n",
       "    </tr>\n",
       "    <tr>\n",
       "      <th>3</th>\n",
       "      <td>2022-01-04</td>\n",
       "      <td>-2.7</td>\n",
       "    </tr>\n",
       "    <tr>\n",
       "      <th>4</th>\n",
       "      <td>2022-01-05</td>\n",
       "      <td>3.2</td>\n",
       "    </tr>\n",
       "  </tbody>\n",
       "</table>\n",
       "</div>"
      ],
      "text/plain": [
       "        date  avgTemp\n",
       "0 2022-01-01     11.6\n",
       "1 2022-01-02     11.4\n",
       "2 2022-01-03      1.4\n",
       "3 2022-01-04     -2.7\n",
       "4 2022-01-05      3.2"
      ]
     },
     "execution_count": 43,
     "metadata": {},
     "output_type": "execute_result"
    }
   ],
   "source": [
    "df_temp.head()"
   ]
  },
  {
   "cell_type": "code",
   "execution_count": 48,
   "id": "cb92f8b7-bca2-4660-bdfb-ca301fbce9a4",
   "metadata": {
    "tags": []
   },
   "outputs": [],
   "source": [
    "df_temp.to_csv('NY_LaGuardia_data.csv')"
   ]
  },
  {
   "cell_type": "code",
   "execution_count": 50,
   "id": "7bcec3ce-7ccf-46ca-80d7-8b670e938b23",
   "metadata": {
    "tags": []
   },
   "outputs": [
    {
     "name": "stdout",
     "output_type": "stream",
     "text": [
      "CPU times: user 13.5 s, sys: 18.1 s, total: 31.7 s\n",
      "Wall time: 38.3 s\n"
     ]
    }
   ],
   "source": [
    "%%time\n",
    "df_merged = df.merge(df_temp, how = 'left', on = 'date', indicator = True)"
   ]
  },
  {
   "cell_type": "code",
   "execution_count": 52,
   "id": "021c6c28-0cf6-4e6c-bc76-49b2b9cab39f",
   "metadata": {
    "tags": []
   },
   "outputs": [
    {
     "data": {
      "text/html": [
       "<div>\n",
       "<style scoped>\n",
       "    .dataframe tbody tr th:only-of-type {\n",
       "        vertical-align: middle;\n",
       "    }\n",
       "\n",
       "    .dataframe tbody tr th {\n",
       "        vertical-align: top;\n",
       "    }\n",
       "\n",
       "    .dataframe thead th {\n",
       "        text-align: right;\n",
       "    }\n",
       "</style>\n",
       "<table border=\"1\" class=\"dataframe\">\n",
       "  <thead>\n",
       "    <tr style=\"text-align: right;\">\n",
       "      <th></th>\n",
       "      <th>ride_id</th>\n",
       "      <th>rideable_type</th>\n",
       "      <th>started_at</th>\n",
       "      <th>ended_at</th>\n",
       "      <th>start_station_name</th>\n",
       "      <th>start_station_id</th>\n",
       "      <th>end_station_name</th>\n",
       "      <th>end_station_id</th>\n",
       "      <th>start_lat</th>\n",
       "      <th>start_lng</th>\n",
       "      <th>end_lat</th>\n",
       "      <th>end_lng</th>\n",
       "      <th>member_casual</th>\n",
       "      <th>date</th>\n",
       "      <th>avgTemp</th>\n",
       "      <th>_merge</th>\n",
       "    </tr>\n",
       "  </thead>\n",
       "  <tbody>\n",
       "    <tr>\n",
       "      <th>0</th>\n",
       "      <td>DF208007EE5F9D79</td>\n",
       "      <td>classic_bike</td>\n",
       "      <td>2022-08-26 15:21:44</td>\n",
       "      <td>2022-08-26 15:34:20</td>\n",
       "      <td>Berkeley Pl &amp; 6 Ave</td>\n",
       "      <td>4134.06</td>\n",
       "      <td>Windsor Pl &amp; 8 Ave</td>\n",
       "      <td>3620.02</td>\n",
       "      <td>40.676530</td>\n",
       "      <td>-73.978469</td>\n",
       "      <td>40.660906</td>\n",
       "      <td>-73.983074</td>\n",
       "      <td>member</td>\n",
       "      <td>2022-08-26</td>\n",
       "      <td>27.4</td>\n",
       "      <td>both</td>\n",
       "    </tr>\n",
       "    <tr>\n",
       "      <th>1</th>\n",
       "      <td>48A796B4996BACB0</td>\n",
       "      <td>electric_bike</td>\n",
       "      <td>2022-08-03 12:56:29</td>\n",
       "      <td>2022-08-03 13:06:10</td>\n",
       "      <td>21 St &amp; 4 Ave</td>\n",
       "      <td>3668.04</td>\n",
       "      <td>Degraw St &amp; Smith St</td>\n",
       "      <td>4298.05</td>\n",
       "      <td>40.662584</td>\n",
       "      <td>-73.995554</td>\n",
       "      <td>40.682915</td>\n",
       "      <td>-73.993182</td>\n",
       "      <td>member</td>\n",
       "      <td>2022-08-03</td>\n",
       "      <td>27.6</td>\n",
       "      <td>both</td>\n",
       "    </tr>\n",
       "    <tr>\n",
       "      <th>2</th>\n",
       "      <td>AE459F435C0B1D5B</td>\n",
       "      <td>classic_bike</td>\n",
       "      <td>2022-08-11 17:49:47</td>\n",
       "      <td>2022-08-11 18:05:08</td>\n",
       "      <td>48 St &amp; Barnett Ave</td>\n",
       "      <td>6358.05</td>\n",
       "      <td>Queens Plaza North &amp; Crescent St</td>\n",
       "      <td>6429.01</td>\n",
       "      <td>40.750016</td>\n",
       "      <td>-73.915409</td>\n",
       "      <td>40.751102</td>\n",
       "      <td>-73.940737</td>\n",
       "      <td>member</td>\n",
       "      <td>2022-08-11</td>\n",
       "      <td>26.6</td>\n",
       "      <td>both</td>\n",
       "    </tr>\n",
       "    <tr>\n",
       "      <th>3</th>\n",
       "      <td>CA8B4A94620E74C0</td>\n",
       "      <td>electric_bike</td>\n",
       "      <td>2022-08-10 17:25:41</td>\n",
       "      <td>2022-08-10 17:35:23</td>\n",
       "      <td>7 Ave &amp; Central Park South</td>\n",
       "      <td>6912.01</td>\n",
       "      <td>8 Ave &amp; W 33 St</td>\n",
       "      <td>6450.12</td>\n",
       "      <td>40.766741</td>\n",
       "      <td>-73.979069</td>\n",
       "      <td>40.751551</td>\n",
       "      <td>-73.993934</td>\n",
       "      <td>member</td>\n",
       "      <td>2022-08-10</td>\n",
       "      <td>27.2</td>\n",
       "      <td>both</td>\n",
       "    </tr>\n",
       "    <tr>\n",
       "      <th>4</th>\n",
       "      <td>EB85C6F0148BC348</td>\n",
       "      <td>classic_bike</td>\n",
       "      <td>2022-08-31 13:47:12</td>\n",
       "      <td>2022-08-31 14:24:00</td>\n",
       "      <td>Jerome Ave &amp; W 195 St</td>\n",
       "      <td>8653.09</td>\n",
       "      <td>Sherman Ave &amp; E 166 St</td>\n",
       "      <td>8072.06</td>\n",
       "      <td>40.868858</td>\n",
       "      <td>-73.896500</td>\n",
       "      <td>40.831305</td>\n",
       "      <td>-73.917448</td>\n",
       "      <td>member</td>\n",
       "      <td>2022-08-31</td>\n",
       "      <td>25.6</td>\n",
       "      <td>both</td>\n",
       "    </tr>\n",
       "  </tbody>\n",
       "</table>\n",
       "</div>"
      ],
      "text/plain": [
       "            ride_id  rideable_type          started_at             ended_at  \\\n",
       "0  DF208007EE5F9D79   classic_bike 2022-08-26 15:21:44  2022-08-26 15:34:20   \n",
       "1  48A796B4996BACB0  electric_bike 2022-08-03 12:56:29  2022-08-03 13:06:10   \n",
       "2  AE459F435C0B1D5B   classic_bike 2022-08-11 17:49:47  2022-08-11 18:05:08   \n",
       "3  CA8B4A94620E74C0  electric_bike 2022-08-10 17:25:41  2022-08-10 17:35:23   \n",
       "4  EB85C6F0148BC348   classic_bike 2022-08-31 13:47:12  2022-08-31 14:24:00   \n",
       "\n",
       "           start_station_name  start_station_id  \\\n",
       "0         Berkeley Pl & 6 Ave           4134.06   \n",
       "1               21 St & 4 Ave           3668.04   \n",
       "2         48 St & Barnett Ave           6358.05   \n",
       "3  7 Ave & Central Park South           6912.01   \n",
       "4       Jerome Ave & W 195 St           8653.09   \n",
       "\n",
       "                   end_station_name  end_station_id  start_lat  start_lng  \\\n",
       "0                Windsor Pl & 8 Ave         3620.02  40.676530 -73.978469   \n",
       "1              Degraw St & Smith St         4298.05  40.662584 -73.995554   \n",
       "2  Queens Plaza North & Crescent St         6429.01  40.750016 -73.915409   \n",
       "3                   8 Ave & W 33 St         6450.12  40.766741 -73.979069   \n",
       "4            Sherman Ave & E 166 St         8072.06  40.868858 -73.896500   \n",
       "\n",
       "     end_lat    end_lng member_casual       date  avgTemp _merge  \n",
       "0  40.660906 -73.983074        member 2022-08-26     27.4   both  \n",
       "1  40.682915 -73.993182        member 2022-08-03     27.6   both  \n",
       "2  40.751102 -73.940737        member 2022-08-11     26.6   both  \n",
       "3  40.751551 -73.993934        member 2022-08-10     27.2   both  \n",
       "4  40.831305 -73.917448        member 2022-08-31     25.6   both  "
      ]
     },
     "execution_count": 52,
     "metadata": {},
     "output_type": "execute_result"
    }
   ],
   "source": [
    "df_merged.head()"
   ]
  },
  {
   "cell_type": "code",
   "execution_count": 54,
   "id": "8ba475c3-4c1a-4323-a6ba-50b55e76cd5a",
   "metadata": {
    "tags": []
   },
   "outputs": [
    {
     "data": {
      "text/plain": [
       "both          30689921\n",
       "left_only            0\n",
       "right_only           0\n",
       "Name: _merge, dtype: int64"
      ]
     },
     "execution_count": 54,
     "metadata": {},
     "output_type": "execute_result"
    }
   ],
   "source": [
    "df_merged['_merge'].value_counts(dropna = False)"
   ]
  },
  {
   "cell_type": "code",
   "execution_count": 56,
   "id": "0e2dab1a-bda3-4eab-a477-5b4361bfbc08",
   "metadata": {},
   "outputs": [],
   "source": [
    "df_merged.to_csv('NY_CitiBike_data.csv')"
   ]
  }
 ],
 "metadata": {
  "kernelspec": {
   "display_name": "Python [conda env:citi_bike]",
   "language": "python",
   "name": "conda-env-citi_bike-py"
  },
  "language_info": {
   "codemirror_mode": {
    "name": "ipython",
    "version": 3
   },
   "file_extension": ".py",
   "mimetype": "text/x-python",
   "name": "python",
   "nbconvert_exporter": "python",
   "pygments_lexer": "ipython3",
   "version": "3.12.3"
  }
 },
 "nbformat": 4,
 "nbformat_minor": 5
}
