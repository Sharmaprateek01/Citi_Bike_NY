{
 "cells": [
  {
   "cell_type": "markdown",
   "id": "521a05f9-41a7-4c84-984d-fa112f05a53f",
   "metadata": {},
   "source": [
    "### Importing libraries"
   ]
  },
  {
   "cell_type": "code",
   "execution_count": 1,
   "id": "e9c4dd8d-1d38-451b-9d5a-96ac322bf8ad",
   "metadata": {
    "tags": []
   },
   "outputs": [
    {
     "name": "stdout",
     "output_type": "stream",
     "text": [
      "Intel MKL WARNING: Support of Intel(R) Streaming SIMD Extensions 4.2 (Intel(R) SSE4.2) enabled only processors has been deprecated. Intel oneAPI Math Kernel Library 2025.0 will require Intel(R) Advanced Vector Extensions (Intel(R) AVX) instructions.\n",
      "Intel MKL WARNING: Support of Intel(R) Streaming SIMD Extensions 4.2 (Intel(R) SSE4.2) enabled only processors has been deprecated. Intel oneAPI Math Kernel Library 2025.0 will require Intel(R) Advanced Vector Extensions (Intel(R) AVX) instructions.\n"
     ]
    }
   ],
   "source": [
    "import pandas as pd\n",
    "import os\n",
    "import numpy as np\n",
    "from matplotlib import pyplot as plt\n",
    "import matplotlib.pyplot as plt\n",
    "import seaborn as sns\n",
    "import matplotlib as mpl\n",
    "import plotly.express as px\n",
    "from keplergl import KeplerGl"
   ]
  },
  {
   "cell_type": "code",
   "execution_count": 2,
   "id": "f626893c-cd2c-4ec4-b944-602af5bc42c5",
   "metadata": {
    "tags": []
   },
   "outputs": [],
   "source": [
    "df = pd.read_csv('NY_CitiBike_data.csv', index_col = 0)"
   ]
  },
  {
   "cell_type": "markdown",
   "id": "bf1230cc-3194-484c-880a-36448b9ff60b",
   "metadata": {},
   "source": [
    "## Data preprocessing"
   ]
  },
  {
   "cell_type": "code",
   "execution_count": 18,
   "id": "dce9b7f1-3ecd-4972-9a03-f942cbf37940",
   "metadata": {
    "tags": []
   },
   "outputs": [],
   "source": [
    "# Create a value column and group by start and end station \n",
    "df[\"value\"] = 1\n",
    "df_group = df.groupby([\"start_station_name\", \"end_station_name\",\"start_lat\",\"start_lng\",\n",
    "                      \"end_lat\",\"end_lng\"])[\"value\"].count().reset_index()"
   ]
  },
  {
   "cell_type": "code",
   "execution_count": 19,
   "id": "9b375928-336a-4b43-8d30-d10dffb24726",
   "metadata": {
    "tags": []
   },
   "outputs": [
    {
     "data": {
      "text/html": [
       "<div>\n",
       "<style scoped>\n",
       "    .dataframe tbody tr th:only-of-type {\n",
       "        vertical-align: middle;\n",
       "    }\n",
       "\n",
       "    .dataframe tbody tr th {\n",
       "        vertical-align: top;\n",
       "    }\n",
       "\n",
       "    .dataframe thead th {\n",
       "        text-align: right;\n",
       "    }\n",
       "</style>\n",
       "<table border=\"1\" class=\"dataframe\">\n",
       "  <thead>\n",
       "    <tr style=\"text-align: right;\">\n",
       "      <th></th>\n",
       "      <th>start_station_name</th>\n",
       "      <th>end_station_name</th>\n",
       "      <th>start_lat</th>\n",
       "      <th>start_lng</th>\n",
       "      <th>end_lat</th>\n",
       "      <th>end_lng</th>\n",
       "      <th>value</th>\n",
       "    </tr>\n",
       "  </thead>\n",
       "  <tbody>\n",
       "    <tr>\n",
       "      <th>0</th>\n",
       "      <td>1 Ave &amp; E 110 St</td>\n",
       "      <td>1 Ave &amp; E 110 St</td>\n",
       "      <td>40.792062</td>\n",
       "      <td>-73.937756</td>\n",
       "      <td>40.792327</td>\n",
       "      <td>-73.938300</td>\n",
       "      <td>1</td>\n",
       "    </tr>\n",
       "    <tr>\n",
       "      <th>1</th>\n",
       "      <td>1 Ave &amp; E 110 St</td>\n",
       "      <td>1 Ave &amp; E 110 St</td>\n",
       "      <td>40.792078</td>\n",
       "      <td>-73.937701</td>\n",
       "      <td>40.792327</td>\n",
       "      <td>-73.938300</td>\n",
       "      <td>1</td>\n",
       "    </tr>\n",
       "    <tr>\n",
       "      <th>2</th>\n",
       "      <td>1 Ave &amp; E 110 St</td>\n",
       "      <td>1 Ave &amp; E 110 St</td>\n",
       "      <td>40.792142</td>\n",
       "      <td>-73.937926</td>\n",
       "      <td>40.792327</td>\n",
       "      <td>-73.938300</td>\n",
       "      <td>1</td>\n",
       "    </tr>\n",
       "    <tr>\n",
       "      <th>3</th>\n",
       "      <td>1 Ave &amp; E 110 St</td>\n",
       "      <td>1 Ave &amp; E 110 St</td>\n",
       "      <td>40.792144</td>\n",
       "      <td>-73.937845</td>\n",
       "      <td>40.792327</td>\n",
       "      <td>-73.938300</td>\n",
       "      <td>1</td>\n",
       "    </tr>\n",
       "    <tr>\n",
       "      <th>4</th>\n",
       "      <td>1 Ave &amp; E 110 St</td>\n",
       "      <td>1 Ave &amp; E 110 St</td>\n",
       "      <td>40.792175</td>\n",
       "      <td>-73.937893</td>\n",
       "      <td>40.792327</td>\n",
       "      <td>-73.938300</td>\n",
       "      <td>1</td>\n",
       "    </tr>\n",
       "    <tr>\n",
       "      <th>...</th>\n",
       "      <td>...</td>\n",
       "      <td>...</td>\n",
       "      <td>...</td>\n",
       "      <td>...</td>\n",
       "      <td>...</td>\n",
       "      <td>...</td>\n",
       "      <td>...</td>\n",
       "    </tr>\n",
       "    <tr>\n",
       "      <th>5111359</th>\n",
       "      <td>Yankee Ferry Terminal</td>\n",
       "      <td>Yankee Ferry Terminal</td>\n",
       "      <td>40.687181</td>\n",
       "      <td>-74.016553</td>\n",
       "      <td>40.687066</td>\n",
       "      <td>-74.016756</td>\n",
       "      <td>1</td>\n",
       "    </tr>\n",
       "    <tr>\n",
       "      <th>5111360</th>\n",
       "      <td>Yankee Ferry Terminal</td>\n",
       "      <td>Yankee Ferry Terminal</td>\n",
       "      <td>40.687197</td>\n",
       "      <td>-74.016486</td>\n",
       "      <td>40.687066</td>\n",
       "      <td>-74.016756</td>\n",
       "      <td>1</td>\n",
       "    </tr>\n",
       "    <tr>\n",
       "      <th>5111361</th>\n",
       "      <td>Yankee Ferry Terminal</td>\n",
       "      <td>Yankee Ferry Terminal</td>\n",
       "      <td>40.687216</td>\n",
       "      <td>-74.016586</td>\n",
       "      <td>40.687066</td>\n",
       "      <td>-74.016756</td>\n",
       "      <td>1</td>\n",
       "    </tr>\n",
       "    <tr>\n",
       "      <th>5111362</th>\n",
       "      <td>Yankee Ferry Terminal</td>\n",
       "      <td>Yankee Ferry Terminal</td>\n",
       "      <td>40.687234</td>\n",
       "      <td>-74.016551</td>\n",
       "      <td>40.687066</td>\n",
       "      <td>-74.016756</td>\n",
       "      <td>1</td>\n",
       "    </tr>\n",
       "    <tr>\n",
       "      <th>5111363</th>\n",
       "      <td>Yankee Ferry Terminal</td>\n",
       "      <td>Yankee Ferry Terminal</td>\n",
       "      <td>40.687517</td>\n",
       "      <td>-74.016410</td>\n",
       "      <td>40.687066</td>\n",
       "      <td>-74.016756</td>\n",
       "      <td>1</td>\n",
       "    </tr>\n",
       "  </tbody>\n",
       "</table>\n",
       "<p>5111364 rows × 7 columns</p>\n",
       "</div>"
      ],
      "text/plain": [
       "            start_station_name       end_station_name  start_lat  start_lng  \\\n",
       "0             1 Ave & E 110 St       1 Ave & E 110 St  40.792062 -73.937756   \n",
       "1             1 Ave & E 110 St       1 Ave & E 110 St  40.792078 -73.937701   \n",
       "2             1 Ave & E 110 St       1 Ave & E 110 St  40.792142 -73.937926   \n",
       "3             1 Ave & E 110 St       1 Ave & E 110 St  40.792144 -73.937845   \n",
       "4             1 Ave & E 110 St       1 Ave & E 110 St  40.792175 -73.937893   \n",
       "...                        ...                    ...        ...        ...   \n",
       "5111359  Yankee Ferry Terminal  Yankee Ferry Terminal  40.687181 -74.016553   \n",
       "5111360  Yankee Ferry Terminal  Yankee Ferry Terminal  40.687197 -74.016486   \n",
       "5111361  Yankee Ferry Terminal  Yankee Ferry Terminal  40.687216 -74.016586   \n",
       "5111362  Yankee Ferry Terminal  Yankee Ferry Terminal  40.687234 -74.016551   \n",
       "5111363  Yankee Ferry Terminal  Yankee Ferry Terminal  40.687517 -74.016410   \n",
       "\n",
       "           end_lat    end_lng  value  \n",
       "0        40.792327 -73.938300      1  \n",
       "1        40.792327 -73.938300      1  \n",
       "2        40.792327 -73.938300      1  \n",
       "3        40.792327 -73.938300      1  \n",
       "4        40.792327 -73.938300      1  \n",
       "...            ...        ...    ...  \n",
       "5111359  40.687066 -74.016756      1  \n",
       "5111360  40.687066 -74.016756      1  \n",
       "5111361  40.687066 -74.016756      1  \n",
       "5111362  40.687066 -74.016756      1  \n",
       "5111363  40.687066 -74.016756      1  \n",
       "\n",
       "[5111364 rows x 7 columns]"
      ]
     },
     "execution_count": 19,
     "metadata": {},
     "output_type": "execute_result"
    }
   ],
   "source": [
    "df_group"
   ]
  },
  {
   "cell_type": "code",
   "execution_count": 20,
   "id": "41d52fe4-7739-4668-af16-748f120b5158",
   "metadata": {
    "tags": []
   },
   "outputs": [
    {
     "name": "stdout",
     "output_type": "stream",
     "text": [
      "30613517\n",
      "(30613517, 18)\n"
     ]
    }
   ],
   "source": [
    "print(df_group['value'].sum())\n",
    "print(df.shape)"
   ]
  },
  {
   "cell_type": "code",
   "execution_count": 21,
   "id": "cace1a96",
   "metadata": {},
   "outputs": [],
   "source": [
    "df_group.rename(columns = {'value': 'trips'}, inplace = True)"
   ]
  },
  {
   "cell_type": "code",
   "execution_count": 22,
   "id": "d190d6f5",
   "metadata": {},
   "outputs": [
    {
     "data": {
      "text/html": [
       "<div>\n",
       "<style scoped>\n",
       "    .dataframe tbody tr th:only-of-type {\n",
       "        vertical-align: middle;\n",
       "    }\n",
       "\n",
       "    .dataframe tbody tr th {\n",
       "        vertical-align: top;\n",
       "    }\n",
       "\n",
       "    .dataframe thead th {\n",
       "        text-align: right;\n",
       "    }\n",
       "</style>\n",
       "<table border=\"1\" class=\"dataframe\">\n",
       "  <thead>\n",
       "    <tr style=\"text-align: right;\">\n",
       "      <th></th>\n",
       "      <th>start_station_name</th>\n",
       "      <th>end_station_name</th>\n",
       "      <th>start_lat</th>\n",
       "      <th>start_lng</th>\n",
       "      <th>end_lat</th>\n",
       "      <th>end_lng</th>\n",
       "      <th>trips</th>\n",
       "    </tr>\n",
       "  </thead>\n",
       "  <tbody>\n",
       "    <tr>\n",
       "      <th>0</th>\n",
       "      <td>1 Ave &amp; E 110 St</td>\n",
       "      <td>1 Ave &amp; E 110 St</td>\n",
       "      <td>40.792062</td>\n",
       "      <td>-73.937756</td>\n",
       "      <td>40.792327</td>\n",
       "      <td>-73.938300</td>\n",
       "      <td>1</td>\n",
       "    </tr>\n",
       "    <tr>\n",
       "      <th>1</th>\n",
       "      <td>1 Ave &amp; E 110 St</td>\n",
       "      <td>1 Ave &amp; E 110 St</td>\n",
       "      <td>40.792078</td>\n",
       "      <td>-73.937701</td>\n",
       "      <td>40.792327</td>\n",
       "      <td>-73.938300</td>\n",
       "      <td>1</td>\n",
       "    </tr>\n",
       "    <tr>\n",
       "      <th>2</th>\n",
       "      <td>1 Ave &amp; E 110 St</td>\n",
       "      <td>1 Ave &amp; E 110 St</td>\n",
       "      <td>40.792142</td>\n",
       "      <td>-73.937926</td>\n",
       "      <td>40.792327</td>\n",
       "      <td>-73.938300</td>\n",
       "      <td>1</td>\n",
       "    </tr>\n",
       "    <tr>\n",
       "      <th>3</th>\n",
       "      <td>1 Ave &amp; E 110 St</td>\n",
       "      <td>1 Ave &amp; E 110 St</td>\n",
       "      <td>40.792144</td>\n",
       "      <td>-73.937845</td>\n",
       "      <td>40.792327</td>\n",
       "      <td>-73.938300</td>\n",
       "      <td>1</td>\n",
       "    </tr>\n",
       "    <tr>\n",
       "      <th>4</th>\n",
       "      <td>1 Ave &amp; E 110 St</td>\n",
       "      <td>1 Ave &amp; E 110 St</td>\n",
       "      <td>40.792175</td>\n",
       "      <td>-73.937893</td>\n",
       "      <td>40.792327</td>\n",
       "      <td>-73.938300</td>\n",
       "      <td>1</td>\n",
       "    </tr>\n",
       "    <tr>\n",
       "      <th>...</th>\n",
       "      <td>...</td>\n",
       "      <td>...</td>\n",
       "      <td>...</td>\n",
       "      <td>...</td>\n",
       "      <td>...</td>\n",
       "      <td>...</td>\n",
       "      <td>...</td>\n",
       "    </tr>\n",
       "    <tr>\n",
       "      <th>5111359</th>\n",
       "      <td>Yankee Ferry Terminal</td>\n",
       "      <td>Yankee Ferry Terminal</td>\n",
       "      <td>40.687181</td>\n",
       "      <td>-74.016553</td>\n",
       "      <td>40.687066</td>\n",
       "      <td>-74.016756</td>\n",
       "      <td>1</td>\n",
       "    </tr>\n",
       "    <tr>\n",
       "      <th>5111360</th>\n",
       "      <td>Yankee Ferry Terminal</td>\n",
       "      <td>Yankee Ferry Terminal</td>\n",
       "      <td>40.687197</td>\n",
       "      <td>-74.016486</td>\n",
       "      <td>40.687066</td>\n",
       "      <td>-74.016756</td>\n",
       "      <td>1</td>\n",
       "    </tr>\n",
       "    <tr>\n",
       "      <th>5111361</th>\n",
       "      <td>Yankee Ferry Terminal</td>\n",
       "      <td>Yankee Ferry Terminal</td>\n",
       "      <td>40.687216</td>\n",
       "      <td>-74.016586</td>\n",
       "      <td>40.687066</td>\n",
       "      <td>-74.016756</td>\n",
       "      <td>1</td>\n",
       "    </tr>\n",
       "    <tr>\n",
       "      <th>5111362</th>\n",
       "      <td>Yankee Ferry Terminal</td>\n",
       "      <td>Yankee Ferry Terminal</td>\n",
       "      <td>40.687234</td>\n",
       "      <td>-74.016551</td>\n",
       "      <td>40.687066</td>\n",
       "      <td>-74.016756</td>\n",
       "      <td>1</td>\n",
       "    </tr>\n",
       "    <tr>\n",
       "      <th>5111363</th>\n",
       "      <td>Yankee Ferry Terminal</td>\n",
       "      <td>Yankee Ferry Terminal</td>\n",
       "      <td>40.687517</td>\n",
       "      <td>-74.016410</td>\n",
       "      <td>40.687066</td>\n",
       "      <td>-74.016756</td>\n",
       "      <td>1</td>\n",
       "    </tr>\n",
       "  </tbody>\n",
       "</table>\n",
       "<p>5111364 rows × 7 columns</p>\n",
       "</div>"
      ],
      "text/plain": [
       "            start_station_name       end_station_name  start_lat  start_lng  \\\n",
       "0             1 Ave & E 110 St       1 Ave & E 110 St  40.792062 -73.937756   \n",
       "1             1 Ave & E 110 St       1 Ave & E 110 St  40.792078 -73.937701   \n",
       "2             1 Ave & E 110 St       1 Ave & E 110 St  40.792142 -73.937926   \n",
       "3             1 Ave & E 110 St       1 Ave & E 110 St  40.792144 -73.937845   \n",
       "4             1 Ave & E 110 St       1 Ave & E 110 St  40.792175 -73.937893   \n",
       "...                        ...                    ...        ...        ...   \n",
       "5111359  Yankee Ferry Terminal  Yankee Ferry Terminal  40.687181 -74.016553   \n",
       "5111360  Yankee Ferry Terminal  Yankee Ferry Terminal  40.687197 -74.016486   \n",
       "5111361  Yankee Ferry Terminal  Yankee Ferry Terminal  40.687216 -74.016586   \n",
       "5111362  Yankee Ferry Terminal  Yankee Ferry Terminal  40.687234 -74.016551   \n",
       "5111363  Yankee Ferry Terminal  Yankee Ferry Terminal  40.687517 -74.016410   \n",
       "\n",
       "           end_lat    end_lng  trips  \n",
       "0        40.792327 -73.938300      1  \n",
       "1        40.792327 -73.938300      1  \n",
       "2        40.792327 -73.938300      1  \n",
       "3        40.792327 -73.938300      1  \n",
       "4        40.792327 -73.938300      1  \n",
       "...            ...        ...    ...  \n",
       "5111359  40.687066 -74.016756      1  \n",
       "5111360  40.687066 -74.016756      1  \n",
       "5111361  40.687066 -74.016756      1  \n",
       "5111362  40.687066 -74.016756      1  \n",
       "5111363  40.687066 -74.016756      1  \n",
       "\n",
       "[5111364 rows x 7 columns]"
      ]
     },
     "execution_count": 22,
     "metadata": {},
     "output_type": "execute_result"
    }
   ],
   "source": [
    "df_group"
   ]
  },
  {
   "cell_type": "code",
   "execution_count": 23,
   "id": "291e8f0e",
   "metadata": {},
   "outputs": [],
   "source": [
    "# Sample a subset of the data (e.g., 0.1% of the original data)\n",
    "sample_fraction = 0.001  \n",
    "df_group_sampled = df_group.sample(frac=sample_fraction, random_state=1)"
   ]
  },
  {
   "cell_type": "code",
   "execution_count": 24,
   "id": "19a4a0bc",
   "metadata": {},
   "outputs": [
    {
     "data": {
      "text/html": [
       "<div>\n",
       "<style scoped>\n",
       "    .dataframe tbody tr th:only-of-type {\n",
       "        vertical-align: middle;\n",
       "    }\n",
       "\n",
       "    .dataframe tbody tr th {\n",
       "        vertical-align: top;\n",
       "    }\n",
       "\n",
       "    .dataframe thead th {\n",
       "        text-align: right;\n",
       "    }\n",
       "</style>\n",
       "<table border=\"1\" class=\"dataframe\">\n",
       "  <thead>\n",
       "    <tr style=\"text-align: right;\">\n",
       "      <th></th>\n",
       "      <th>start_station_name</th>\n",
       "      <th>end_station_name</th>\n",
       "      <th>start_lat</th>\n",
       "      <th>start_lng</th>\n",
       "      <th>end_lat</th>\n",
       "      <th>end_lng</th>\n",
       "      <th>trips</th>\n",
       "    </tr>\n",
       "  </thead>\n",
       "  <tbody>\n",
       "    <tr>\n",
       "      <th>2088834</th>\n",
       "      <td>E 33 St &amp; 5 Ave</td>\n",
       "      <td>E 33 St &amp; 5 Ave</td>\n",
       "      <td>40.747595</td>\n",
       "      <td>-73.984934</td>\n",
       "      <td>40.747659</td>\n",
       "      <td>-73.984907</td>\n",
       "      <td>1</td>\n",
       "    </tr>\n",
       "    <tr>\n",
       "      <th>284554</th>\n",
       "      <td>3 Ave &amp; E 172 St</td>\n",
       "      <td>Grand Concourse &amp; E Mosholu Pkwy S</td>\n",
       "      <td>40.839586</td>\n",
       "      <td>-73.900277</td>\n",
       "      <td>40.877964</td>\n",
       "      <td>-73.884755</td>\n",
       "      <td>1</td>\n",
       "    </tr>\n",
       "    <tr>\n",
       "      <th>1274697</th>\n",
       "      <td>Broadway\\t&amp; W 48 St</td>\n",
       "      <td>E 45 St &amp; 3 Ave</td>\n",
       "      <td>40.760324</td>\n",
       "      <td>-73.984495</td>\n",
       "      <td>40.752554</td>\n",
       "      <td>-73.972826</td>\n",
       "      <td>1</td>\n",
       "    </tr>\n",
       "    <tr>\n",
       "      <th>2110052</th>\n",
       "      <td>E 39 St &amp; Lexington Ave</td>\n",
       "      <td>E 39 St &amp; Lexington Ave</td>\n",
       "      <td>40.749288</td>\n",
       "      <td>-73.976877</td>\n",
       "      <td>40.749499</td>\n",
       "      <td>-73.977292</td>\n",
       "      <td>1</td>\n",
       "    </tr>\n",
       "    <tr>\n",
       "      <th>715036</th>\n",
       "      <td>8 Ave &amp; W 38 St</td>\n",
       "      <td>W 35 St &amp; 8 Ave</td>\n",
       "      <td>40.754551</td>\n",
       "      <td>-73.991729</td>\n",
       "      <td>40.752762</td>\n",
       "      <td>-73.992805</td>\n",
       "      <td>1</td>\n",
       "    </tr>\n",
       "    <tr>\n",
       "      <th>...</th>\n",
       "      <td>...</td>\n",
       "      <td>...</td>\n",
       "      <td>...</td>\n",
       "      <td>...</td>\n",
       "      <td>...</td>\n",
       "      <td>...</td>\n",
       "      <td>...</td>\n",
       "    </tr>\n",
       "    <tr>\n",
       "      <th>2133943</th>\n",
       "      <td>E 40 St &amp; Park Ave</td>\n",
       "      <td>E 32 St &amp; Park Ave</td>\n",
       "      <td>40.750462</td>\n",
       "      <td>-73.978569</td>\n",
       "      <td>40.745712</td>\n",
       "      <td>-73.981948</td>\n",
       "      <td>1</td>\n",
       "    </tr>\n",
       "    <tr>\n",
       "      <th>370330</th>\n",
       "      <td>34 St &amp; 35 Ave</td>\n",
       "      <td>8 Ave &amp; W 33 St</td>\n",
       "      <td>40.756933</td>\n",
       "      <td>-73.926223</td>\n",
       "      <td>40.751551</td>\n",
       "      <td>-73.993934</td>\n",
       "      <td>5</td>\n",
       "    </tr>\n",
       "    <tr>\n",
       "      <th>3278207</th>\n",
       "      <td>Madison Av &amp; E 51 St</td>\n",
       "      <td>Sands St &amp; Jay St</td>\n",
       "      <td>40.758873</td>\n",
       "      <td>-73.975014</td>\n",
       "      <td>40.700119</td>\n",
       "      <td>-73.986200</td>\n",
       "      <td>1</td>\n",
       "    </tr>\n",
       "    <tr>\n",
       "      <th>5068242</th>\n",
       "      <td>Willoughby Ave &amp; Wyckoff Ave</td>\n",
       "      <td>Lewis Ave &amp; Kosciuszko St</td>\n",
       "      <td>40.705577</td>\n",
       "      <td>-73.921495</td>\n",
       "      <td>40.692371</td>\n",
       "      <td>-73.937054</td>\n",
       "      <td>1</td>\n",
       "    </tr>\n",
       "    <tr>\n",
       "      <th>5080779</th>\n",
       "      <td>Windsor Pl &amp; 8 Ave</td>\n",
       "      <td>Prospect Park W &amp; 20 St</td>\n",
       "      <td>40.660964</td>\n",
       "      <td>-73.983083</td>\n",
       "      <td>40.656633</td>\n",
       "      <td>-73.983864</td>\n",
       "      <td>1</td>\n",
       "    </tr>\n",
       "  </tbody>\n",
       "</table>\n",
       "<p>5111 rows × 7 columns</p>\n",
       "</div>"
      ],
      "text/plain": [
       "                   start_station_name                    end_station_name  \\\n",
       "2088834               E 33 St & 5 Ave                     E 33 St & 5 Ave   \n",
       "284554               3 Ave & E 172 St  Grand Concourse & E Mosholu Pkwy S   \n",
       "1274697           Broadway\\t& W 48 St                     E 45 St & 3 Ave   \n",
       "2110052       E 39 St & Lexington Ave             E 39 St & Lexington Ave   \n",
       "715036                8 Ave & W 38 St                     W 35 St & 8 Ave   \n",
       "...                               ...                                 ...   \n",
       "2133943            E 40 St & Park Ave                  E 32 St & Park Ave   \n",
       "370330                 34 St & 35 Ave                     8 Ave & W 33 St   \n",
       "3278207          Madison Av & E 51 St                   Sands St & Jay St   \n",
       "5068242  Willoughby Ave & Wyckoff Ave           Lewis Ave & Kosciuszko St   \n",
       "5080779            Windsor Pl & 8 Ave             Prospect Park W & 20 St   \n",
       "\n",
       "         start_lat  start_lng    end_lat    end_lng  trips  \n",
       "2088834  40.747595 -73.984934  40.747659 -73.984907      1  \n",
       "284554   40.839586 -73.900277  40.877964 -73.884755      1  \n",
       "1274697  40.760324 -73.984495  40.752554 -73.972826      1  \n",
       "2110052  40.749288 -73.976877  40.749499 -73.977292      1  \n",
       "715036   40.754551 -73.991729  40.752762 -73.992805      1  \n",
       "...            ...        ...        ...        ...    ...  \n",
       "2133943  40.750462 -73.978569  40.745712 -73.981948      1  \n",
       "370330   40.756933 -73.926223  40.751551 -73.993934      5  \n",
       "3278207  40.758873 -73.975014  40.700119 -73.986200      1  \n",
       "5068242  40.705577 -73.921495  40.692371 -73.937054      1  \n",
       "5080779  40.660964 -73.983083  40.656633 -73.983864      1  \n",
       "\n",
       "[5111 rows x 7 columns]"
      ]
     },
     "execution_count": 24,
     "metadata": {},
     "output_type": "execute_result"
    }
   ],
   "source": [
    "df_group_sampled"
   ]
  },
  {
   "cell_type": "markdown",
   "id": "695c8210-f364-4bc4-8246-8924a6d58ba3",
   "metadata": {},
   "source": [
    "## Plot the map"
   ]
  },
  {
   "cell_type": "code",
   "execution_count": 25,
   "id": "4d1b3b01-6377-4f17-8d67-e6a3cd63fc43",
   "metadata": {
    "tags": []
   },
   "outputs": [],
   "source": [
    "df_group_sampled.to_csv('df_group_locations_for_map.csv')"
   ]
  },
  {
   "cell_type": "code",
   "execution_count": 26,
   "id": "9c575c81",
   "metadata": {
    "tags": []
   },
   "outputs": [
    {
     "name": "stdout",
     "output_type": "stream",
     "text": [
      "User Guide: https://docs.kepler.gl/docs/keplergl-jupyter\n"
     ]
    }
   ],
   "source": [
    "# Create KeplerGl instance\n",
    "\n",
    "m = KeplerGl(height = 700)"
   ]
  },
  {
   "cell_type": "code",
   "execution_count": 27,
   "id": "8e56c3d6",
   "metadata": {},
   "outputs": [],
   "source": [
    "m.add_data(data=df_group_sampled,name=\"trip_data\")"
   ]
  },
  {
   "cell_type": "code",
   "execution_count": 28,
   "id": "2c8250b0",
   "metadata": {
    "scrolled": true
   },
   "outputs": [
    {
     "data": {
      "application/vnd.jupyter.widget-view+json": {
       "model_id": "32e9143db0bb471ca829ef6584a2a64a",
       "version_major": 2,
       "version_minor": 0
      },
      "text/plain": [
       "KeplerGl(data={'trip_data': {'index': [2088834, 284554, 1274697, 2110052, 715036, 1462223, 3868917, 4311836, 4…"
      ]
     },
     "metadata": {},
     "output_type": "display_data"
    }
   ],
   "source": [
    "m"
   ]
  },
  {
   "cell_type": "markdown",
   "id": "78703ba1",
   "metadata": {},
   "source": [
    "The map illustrates various linear routes overlaid on the city’s geographical layout, highlighting the movement of bike rides. It is noteworthy that Central Park has fewer bike rides compared to other areas in New York City. Bike-sharing in Central Park may be limited due to its large and varied terrain, which can be challenging for biking, and the park is often crowded with pedestrians. Safety concerns in certain areas and seasonal weather conditions also impact ridership. Additionally, the park's layout and the availability of existing transportation options may reduce the demand for bike-sharing services within the park itself. This observation warrants further investigation to understand the underlying reasons behind the relatively low number of bike rides in such a spacious and prominent urban park."
   ]
  },
  {
   "cell_type": "code",
   "execution_count": 29,
   "id": "5498af39",
   "metadata": {},
   "outputs": [],
   "source": [
    "config = m.config"
   ]
  },
  {
   "cell_type": "code",
   "execution_count": 31,
   "id": "f053acdb",
   "metadata": {},
   "outputs": [
    {
     "name": "stdout",
     "output_type": "stream",
     "text": [
      "Map saved to New York Trips Aggregated.html!\n"
     ]
    }
   ],
   "source": [
    "m.save_to_html(file_name='New York Trips Aggregated.html', read_only = False, config = config)"
   ]
  },
  {
   "cell_type": "code",
   "execution_count": 32,
   "id": "f6249e1b",
   "metadata": {},
   "outputs": [],
   "source": [
    "import json\n",
    "with open(\"config.json\", \"w\") as outfile:\n",
    "    json.dump(config, outfile)"
   ]
  }
 ],
 "metadata": {
  "kernelspec": {
   "display_name": "Python 3 (ipykernel)",
   "language": "python",
   "name": "python3"
  },
  "language_info": {
   "codemirror_mode": {
    "name": "ipython",
    "version": 3
   },
   "file_extension": ".py",
   "mimetype": "text/x-python",
   "name": "python",
   "nbconvert_exporter": "python",
   "pygments_lexer": "ipython3",
   "version": "3.12.3"
  }
 },
 "nbformat": 4,
 "nbformat_minor": 5
}
